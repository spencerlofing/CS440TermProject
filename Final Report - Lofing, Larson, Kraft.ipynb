{
 "cells": [
  {
   "cell_type": "markdown",
   "metadata": {},
   "source": [
    "# Connect Four: AI Algorithm Analysis"
   ]
  },
  {
   "cell_type": "markdown",
   "metadata": {},
   "source": [
    "*By Joesph Larson, Spencer Lofing, and Joel Kraft*"
   ]
  },
  {
   "cell_type": "markdown",
   "metadata": {},
   "source": [
    "## Introduction"
   ]
  },
  {
   "cell_type": "markdown",
   "metadata": {},
   "source": [
    "This project is based on our groups collective interest in the comparison of different AI algorithms in a game context. We were curious to see with given a game, what AI algorithm would preform better. The two algorithms used in this project are Negamax AB Pruning and Q Scaling. Connect Four was the game we used as a basis for comparing the performance of each algorithm against a variety of opponents. Opponents include random players, opposing AI algorithms, and human players. \n",
    "\n",
    "Connect Four is a two person game that involves a 6x7 grid. The two opponents have colored chips (Red - 'R' and Blue - 'B'). The opponents alternate placing a chip in one of the columns with the goal of getting four of their color in a row. In the physical representation of the game the board is vertical. This means when a chip is placed it goes to the lowest row.\n",
    "\n",
    "Group Member Roles:\n",
    "\n",
    "*Joseph Larson* - Q Learning Algorithm development/implementation\n",
    "\n",
    "*Spencer Lofing* - Negamax AB Pruning development/implementation\n",
    "\n",
    "*Joel Kraft* - General Game and random player implementation"
   ]
  },
  {
   "cell_type": "markdown",
   "metadata": {},
   "source": [
    "## Methods"
   ]
  },
  {
   "cell_type": "markdown",
   "metadata": {},
   "source": [
    "The code for this project can be broken down into three sections: General Game, Negamax AB Pruning, and Q Learning. In general the \"players\" were designed with their designated algorithm so that they could be used through the `makeMove` function. This modular design allowed multiple opponents to be designed around one game structure for versatile testing and implementation. The three sections are discussed more in-depth below."
   ]
  },
  {
   "cell_type": "markdown",
   "metadata": {},
   "source": [
    "### General Game Play"
   ]
  },
  {
   "cell_type": "markdown",
   "metadata": {},
   "source": [
    "The general game play was designed to take in two opponents. These opponents are then used to make alternating moves until one of them wins. The results of the method contains the winning opponent and the number of moves.\n",
    "\n",
    "The play game function was implemented in the function: `[winner,NumebrOfMoves] = playgame(algorithm1MakeMove, algorithm2MakeMove, verbose=False)`:\n",
    "\n",
    "   - `algorithm1MakeMove`: The make move algorithm for the first opponent\n",
    "   - `algorithm1MakeMove`: The make move algorithm for the first opponent\n",
    "   - `verbose`: This flag is True for printing all of the board steps. False keeps the output hidden\n",
    "   - `[winner, NumberOfMoves]`: winner is a 1 for opponent 1 or 2 for opponent 2. A 0 is returned in the event of a tie. Number of Moves gives the number of moves until the solution was reached\n",
    "\n",
    "The make move algorithms for these are expected to take in a state and a color. They then return the new state of the board."
   ]
  },
  {
   "cell_type": "markdown",
   "metadata": {},
   "source": [
    "An example of the general game play is shown below using two random players."
   ]
  },
  {
   "cell_type": "code",
   "execution_count": 3,
   "metadata": {
    "collapsed": false
   },
   "outputs": [
    {
     "name": "stdout",
     "output_type": "stream",
     "text": [
      "X X X X X X X \n",
      "X X X X X X X \n",
      "X X X X X X X \n",
      "X X X X X X X \n",
      "X X X X X X X \n",
      "X X X R X X X \n",
      "\n",
      "X X X X X X X \n",
      "X X X X X X X \n",
      "X X X X X X X \n",
      "X X X X X X X \n",
      "X X X X X X X \n",
      "B X X R X X X \n",
      "\n",
      "X X X X X X X \n",
      "X X X X X X X \n",
      "X X X X X X X \n",
      "X X X X X X X \n",
      "X X X X X X X \n",
      "B X X R R X X \n",
      "\n",
      "X X X X X X X \n",
      "X X X X X X X \n",
      "X X X X X X X \n",
      "X X X X X X X \n",
      "X X X X X X X \n",
      "B X X R R X B \n",
      "\n",
      "X X X X X X X \n",
      "X X X X X X X \n",
      "X X X X X X X \n",
      "X X X X X X X \n",
      "X X X X X X X \n",
      "B X R R R X B \n",
      "\n",
      "X X X X X X X \n",
      "X X X X X X X \n",
      "X X X X X X X \n",
      "X X X X X X X \n",
      "X X X X B X X \n",
      "B X R R R X B \n",
      "\n",
      "X X X X X X X \n",
      "X X X X X X X \n",
      "X X X X X X X \n",
      "X X X X X X X \n",
      "X X X R B X X \n",
      "B X R R R X B \n",
      "\n",
      "X X X X X X X \n",
      "X X X X X X X \n",
      "X X X X X X X \n",
      "X X X X B X X \n",
      "X X X R B X X \n",
      "B X R R R X B \n",
      "\n",
      "X X X X X X X \n",
      "X X X X X X X \n",
      "X X X X X X X \n",
      "X X X X B X X \n",
      "R X X R B X X \n",
      "B X R R R X B \n",
      "\n",
      "X X X X X X X \n",
      "X X X X X X X \n",
      "X X X X X X X \n",
      "B X X X B X X \n",
      "R X X R B X X \n",
      "B X R R R X B \n",
      "\n",
      "X X X X X X X \n",
      "X X X X X X X \n",
      "X X X X X X X \n",
      "B X X X B X X \n",
      "R X R R B X X \n",
      "B X R R R X B \n",
      "\n",
      "X X X X X X X \n",
      "X X X X X X X \n",
      "X X X X B X X \n",
      "B X X X B X X \n",
      "R X R R B X X \n",
      "B X R R R X B \n",
      "\n",
      "X X X X X X X \n",
      "X X X X X X X \n",
      "X X X X B X X \n",
      "B X R X B X X \n",
      "R X R R B X X \n",
      "B X R R R X B \n",
      "\n",
      "X X X X X X X \n",
      "X X X X X X X \n",
      "B X X X B X X \n",
      "B X R X B X X \n",
      "R X R R B X X \n",
      "B X R R R X B \n",
      "\n",
      "X X X X X X X \n",
      "X X X X X X X \n",
      "B X X X B X X \n",
      "B X R X B X X \n",
      "R X R R B X R \n",
      "B X R R R X B \n",
      "\n",
      "X X X X X X X \n",
      "X X X X B X X \n",
      "B X X X B X X \n",
      "B X R X B X X \n",
      "R X R R B X R \n",
      "B X R R R X B \n",
      "\n"
     ]
    }
   ],
   "source": [
    "from TPmysolution import *"
   ]
  },
  {
   "cell_type": "code",
   "execution_count": 2,
   "metadata": {
    "collapsed": false
   },
   "outputs": [
    {
     "data": {
      "text/plain": [
       "(2, 34)"
      ]
     },
     "execution_count": 2,
     "metadata": {},
     "output_type": "execute_result"
    }
   ],
   "source": [
    "playgame(randomPlayerMakeMove,randomPlayerMakeMove)"
   ]
  },
  {
   "cell_type": "code",
   "execution_count": 3,
   "metadata": {
    "collapsed": false,
    "scrolled": true
   },
   "outputs": [
    {
     "name": "stdout",
     "output_type": "stream",
     "text": [
      "X X X X X X X \n",
      "X X X X X X X \n",
      "X X X X X X X \n",
      "X X X X X X X \n",
      "X X X X X X X \n",
      "X R X X X X X \n",
      "\n",
      "X X X X X X X \n",
      "X X X X X X X \n",
      "X X X X X X X \n",
      "X X X X X X X \n",
      "X X X X X X X \n",
      "B R X X X X X \n",
      "\n",
      "X X X X X X X \n",
      "X X X X X X X \n",
      "X X X X X X X \n",
      "X X X X X X X \n",
      "X X X X X X X \n",
      "B R X X X R X \n",
      "\n",
      "X X X X X X X \n",
      "X X X X X X X \n",
      "X X X X X X X \n",
      "X X X X X X X \n",
      "X B X X X X X \n",
      "B R X X X R X \n",
      "\n",
      "X X X X X X X \n",
      "X X X X X X X \n",
      "X X X X X X X \n",
      "X R X X X X X \n",
      "X B X X X X X \n",
      "B R X X X R X \n",
      "\n",
      "X X X X X X X \n",
      "X X X X X X X \n",
      "X X X X X X X \n",
      "X R X X X X X \n",
      "X B X X X X X \n",
      "B R X X B R X \n",
      "\n",
      "X X X X X X X \n",
      "X X X X X X X \n",
      "X X X X X X X \n",
      "X R X X X X X \n",
      "X B X X R X X \n",
      "B R X X B R X \n",
      "\n",
      "X X X X X X X \n",
      "X X X X X X X \n",
      "X X X X X X X \n",
      "X R X X B X X \n",
      "X B X X R X X \n",
      "B R X X B R X \n",
      "\n",
      "X X X X X X X \n",
      "X X X X X X X \n",
      "X X X X X X X \n",
      "X R X X B X X \n",
      "X B X X R R X \n",
      "B R X X B R X \n",
      "\n",
      "X X X X X X X \n",
      "X X X X X X X \n",
      "X X X X B X X \n",
      "X R X X B X X \n",
      "X B X X R R X \n",
      "B R X X B R X \n",
      "\n",
      "X X X X X X X \n",
      "X X X X X X X \n",
      "X X X X B X X \n",
      "X R X X B X X \n",
      "X B X X R R X \n",
      "B R R X B R X \n",
      "\n",
      "X X X X X X X \n",
      "X X X X X X X \n",
      "X B X X B X X \n",
      "X R X X B X X \n",
      "X B X X R R X \n",
      "B R R X B R X \n",
      "\n",
      "X X X X X X X \n",
      "X X X X R X X \n",
      "X B X X B X X \n",
      "X R X X B X X \n",
      "X B X X R R X \n",
      "B R R X B R X \n",
      "\n",
      "X X X X X X X \n",
      "X X X X R X X \n",
      "X B X X B X X \n",
      "X R X X B B X \n",
      "X B X X R R X \n",
      "B R R X B R X \n",
      "\n",
      "X X X X X X X \n",
      "X X X X R X X \n",
      "X B X X B X X \n",
      "X R X X B B X \n",
      "X B X X R R X \n",
      "B R R R B R X \n",
      "\n",
      "X X X X B X X \n",
      "X X X X R X X \n",
      "X B X X B X X \n",
      "X R X X B B X \n",
      "X B X X R R X \n",
      "B R R R B R X \n",
      "\n",
      "X X X X B X X \n",
      "X X X X R X X \n",
      "X B X X B X X \n",
      "X R X X B B X \n",
      "X B X R R R X \n",
      "B R R R B R X \n",
      "\n",
      "X X X X B X X \n",
      "X X X X R X X \n",
      "X B X X B B X \n",
      "X R X X B B X \n",
      "X B X R R R X \n",
      "B R R R B R X \n",
      "\n",
      "X X X X B X X \n",
      "X X X X R X X \n",
      "X B X X B B X \n",
      "X R X X B B X \n",
      "R B X R R R X \n",
      "B R R R B R X \n",
      "\n",
      "X X X X B X X \n",
      "X B X X R X X \n",
      "X B X X B B X \n",
      "X R X X B B X \n",
      "R B X R R R X \n",
      "B R R R B R X \n",
      "\n",
      "X X X X B X X \n",
      "X B X X R X X \n",
      "X B X X B B X \n",
      "X R X X B B X \n",
      "R B R R R R X \n",
      "B R R R B R X \n",
      "\n"
     ]
    },
    {
     "data": {
      "text/plain": [
       "(1, 21)"
      ]
     },
     "execution_count": 3,
     "metadata": {},
     "output_type": "execute_result"
    }
   ],
   "source": [
    "playgame(randomPlayerMakeMove,randomPlayerMakeMove,True)"
   ]
  },
  {
   "cell_type": "markdown",
   "metadata": {},
   "source": [
    "A user can also serve as a playing function through the user make move function. The user is given the options of columns (0 indexed) and shown their color. After the user inputs their desired move the opponent is given a chance to play. An example of user verses the random player is given below."
   ]
  },
  {
   "cell_type": "code",
   "execution_count": 4,
   "metadata": {
    "collapsed": false,
    "scrolled": true
   },
   "outputs": [
    {
     "name": "stdout",
     "output_type": "stream",
     "text": [
      "X X X X X X X \n",
      "X X X X X X X \n",
      "X X X X X X X \n",
      "X X X X X X X \n",
      "X X X X X X X \n",
      "X X X X X X X \n",
      "\n",
      "You are: 'R'\n",
      "Possible Options: \n",
      "[0, 1, 2, 3, 4, 5, 6]\n",
      "enter number of column (0-6) of desired move: 3\n",
      "X X X X X X X \n",
      "X X X X X X X \n",
      "X X X X X X X \n",
      "X X X X X X X \n",
      "X X X X X X X \n",
      "X X X R X X B \n",
      "\n",
      "You are: 'R'\n",
      "Possible Options: \n",
      "[0, 1, 2, 3, 4, 5, 6]\n",
      "enter number of column (0-6) of desired move: 3\n",
      "X X X X X X X \n",
      "X X X X X X X \n",
      "X X X X X X X \n",
      "X X X X X X X \n",
      "X X X R X X X \n",
      "X X X R B X B \n",
      "\n",
      "You are: 'R'\n",
      "Possible Options: \n",
      "[0, 1, 2, 3, 4, 5, 6]\n",
      "enter number of column (0-6) of desired move: 3\n",
      "X X X X X X X \n",
      "X X X X X X X \n",
      "X X X X X X X \n",
      "X X X R X X X \n",
      "X X X R X X X \n",
      "X B X R B X B \n",
      "\n",
      "You are: 'R'\n",
      "Possible Options: \n",
      "[0, 1, 2, 3, 4, 5, 6]\n",
      "enter number of column (0-6) of desired move: 3\n"
     ]
    },
    {
     "data": {
      "text/plain": [
       "(1, 7)"
      ]
     },
     "execution_count": 4,
     "metadata": {},
     "output_type": "execute_result"
    }
   ],
   "source": [
    "playgame(userInputMakeMove,randomPlayerMakeMove)"
   ]
  },
  {
   "cell_type": "markdown",
   "metadata": {},
   "source": [
    "The random player is shown against the user. The user was the Red - 'R' player and won fairly quickly and easily."
   ]
  },
  {
   "cell_type": "markdown",
   "metadata": {},
   "source": [
    "### Negamax AB Pruning"
   ]
  },
  {
   "cell_type": "markdown",
   "metadata": {},
   "source": [
    "Negamax AB Pruning was one of the AI algorithms implemented in our connect four game. The AB pruning opponent can be called by its `makeMoveABPruning()` function. This function utilizes the AB Pruning code from CS440 and adapted it to run and operate in the connect four game."
   ]
  },
  {
   "cell_type": "markdown",
   "metadata": {},
   "source": [
    "Maybe add an AB explanation here????"
   ]
  },
  {
   "cell_type": "markdown",
   "metadata": {},
   "source": [
    "The AB pruning model worked very well. It is a little slow in its initial responses as it searches through the rather large list of possible solutions. This processing time decreases significantly as the game goes on. This opponent is very hard to beat. An example game play of this AI method against a user is shown below."
   ]
  },
  {
   "cell_type": "code",
   "execution_count": 7,
   "metadata": {
    "collapsed": false,
    "scrolled": true
   },
   "outputs": [
    {
     "name": "stdout",
     "output_type": "stream",
     "text": [
      "X X X X X X X \n",
      "X X X X X X X \n",
      "X X X X X X X \n",
      "X X X X X X X \n",
      "X X X X X X X \n",
      "X X X X X X X \n",
      "\n",
      "You are: 'R'\n",
      "Possible Options: \n",
      "[0, 1, 2, 3, 4, 5, 6]\n",
      "enter number of column (0-6) of desired move: 5\n",
      "X X X X X X X \n",
      "X X X X X X X \n",
      "X X X X X X X \n",
      "X X X X X X X \n",
      "X X X X X X X \n",
      "B X X X X R X \n",
      "\n",
      "You are: 'R'\n",
      "Possible Options: \n",
      "[0, 1, 2, 3, 4, 5, 6]\n",
      "enter number of column (0-6) of desired move: 6\n",
      "X X X X X X X \n",
      "X X X X X X X \n",
      "X X X X X X X \n",
      "X X X X X X X \n",
      "B X X X X X X \n",
      "B X X X X R R \n",
      "\n",
      "You are: 'R'\n",
      "Possible Options: \n",
      "[0, 1, 2, 3, 4, 5, 6]\n",
      "enter number of column (0-6) of desired move: 4\n",
      "X X X X X X X \n",
      "X X X X X X X \n",
      "X X X X X X X \n",
      "X X X X X X X \n",
      "B X X X X X X \n",
      "B X X B R R R \n",
      "\n",
      "You are: 'R'\n",
      "Possible Options: \n",
      "[0, 1, 2, 3, 4, 5, 6]\n",
      "enter number of column (0-6) of desired move: 6\n",
      "X X X X X X X \n",
      "X X X X X X X \n",
      "X X X X X X X \n",
      "B X X X X X X \n",
      "B X X X X X R \n",
      "B X X B R R R \n",
      "\n",
      "You are: 'R'\n",
      "Possible Options: \n",
      "[0, 1, 2, 3, 4, 5, 6]\n",
      "enter number of column (0-6) of desired move: 0\n",
      "X X X X X X X \n",
      "B X X X X X X \n",
      "R X X X X X X \n",
      "B X X X X X X \n",
      "B X X X X X R \n",
      "B X X B R R R \n",
      "\n",
      "You are: 'R'\n",
      "Possible Options: \n",
      "[0, 1, 2, 3, 4, 5, 6]\n",
      "enter number of column (0-6) of desired move: 6\n",
      "X X X X X X X \n",
      "B X X X X X X \n",
      "R X X X X X B \n",
      "B X X X X X R \n",
      "B X X X X X R \n",
      "B X X B R R R \n",
      "\n",
      "You are: 'R'\n",
      "Possible Options: \n",
      "[0, 1, 2, 3, 4, 5, 6]\n",
      "enter number of column (0-6) of desired move: 5\n",
      "B X X X X X X \n",
      "B X X X X X X \n",
      "R X X X X X B \n",
      "B X X X X X R \n",
      "B X X X X R R \n",
      "B X X B R R R \n",
      "\n",
      "You are: 'R'\n",
      "Possible Options: \n",
      "[1, 2, 3, 4, 5, 6]\n",
      "enter number of column (0-6) of desired move: 4\n",
      "B X X X X X X \n",
      "B X X X X X X \n",
      "R X X X X X B \n",
      "B X X X X X R \n",
      "B X X X R R R \n",
      "B B X B R R R \n",
      "\n",
      "You are: 'R'\n",
      "Possible Options: \n",
      "[1, 2, 3, 4, 5, 6]\n",
      "enter number of column (0-6) of desired move: 3\n"
     ]
    },
    {
     "data": {
      "text/plain": [
       "(1, 17)"
      ]
     },
     "execution_count": 7,
     "metadata": {},
     "output_type": "execute_result"
    }
   ],
   "source": [
    "playgame(userInputMakeMove,makeMoveABPruning)"
   ]
  },
  {
   "cell_type": "markdown",
   "metadata": {},
   "source": [
    "The AB player searches all of the possible solutions while pruning away paths that are not feasible or paths that would definitely lead to a loss. Due to its ability to see all of the possible solutions it can be hard to beat. It is not impossible as shown in the game above. Overall the AB method seems to present a well balanced and intelligent opponent to play against. So far the only down side to this AI algorithm is the time that it takes to complete a game. "
   ]
  },
  {
   "cell_type": "code",
   "execution_count": 6,
   "metadata": {
    "collapsed": false
   },
   "outputs": [
    {
     "data": {
      "text/plain": [
       "(2, 12)"
      ]
     },
     "execution_count": 6,
     "metadata": {},
     "output_type": "execute_result"
    }
   ],
   "source": [
    "playgame(randomPlayerMakeMove,makeMoveABPruning)"
   ]
  },
  {
   "cell_type": "markdown",
   "metadata": {},
   "source": [
    "When AB pruning plays itself it always has the exact same output with the same winner, number of moves, and resulting board. This might be an indication that it is impossible to play a perfect Tie in connect four without one player winning. It might also show that the second player can always win. These are rough theories that will be looked at more in-depth with the other algorithms."
   ]
  },
  {
   "cell_type": "code",
   "execution_count": 8,
   "metadata": {
    "collapsed": false
   },
   "outputs": [
    {
     "data": {
      "text/plain": [
       "(2, 38)"
      ]
     },
     "execution_count": 8,
     "metadata": {},
     "output_type": "execute_result"
    }
   ],
   "source": [
    "playgame(makeMoveABPruning,makeMoveABPruning)"
   ]
  },
  {
   "cell_type": "code",
   "execution_count": 9,
   "metadata": {
    "collapsed": false
   },
   "outputs": [
    {
     "data": {
      "text/plain": [
       "(2, 38)"
      ]
     },
     "execution_count": 9,
     "metadata": {},
     "output_type": "execute_result"
    }
   ],
   "source": [
    "playgame(makeMoveABPruning,makeMoveABPruning)"
   ]
  },
  {
   "cell_type": "code",
   "execution_count": 10,
   "metadata": {
    "collapsed": false,
    "scrolled": true
   },
   "outputs": [
    {
     "data": {
      "text/plain": [
       "(2, 38)"
      ]
     },
     "execution_count": 10,
     "metadata": {},
     "output_type": "execute_result"
    }
   ],
   "source": [
    "playgame(makeMoveABPruning,makeMoveABPruning)"
   ]
  },
  {
   "cell_type": "code",
   "execution_count": 11,
   "metadata": {
    "collapsed": false
   },
   "outputs": [
    {
     "name": "stdout",
     "output_type": "stream",
     "text": [
      "X X X X X X X \n",
      "X X X X X X X \n",
      "X X X X X X X \n",
      "X X X X X X X \n",
      "X X X X X X X \n",
      "R X X X X X X \n",
      "\n",
      "X X X X X X X \n",
      "X X X X X X X \n",
      "X X X X X X X \n",
      "X X X X X X X \n",
      "B X X X X X X \n",
      "R X X X X X X \n",
      "\n",
      "X X X X X X X \n",
      "X X X X X X X \n",
      "X X X X X X X \n",
      "R X X X X X X \n",
      "B X X X X X X \n",
      "R X X X X X X \n",
      "\n",
      "X X X X X X X \n",
      "X X X X X X X \n",
      "B X X X X X X \n",
      "R X X X X X X \n",
      "B X X X X X X \n",
      "R X X X X X X \n",
      "\n",
      "X X X X X X X \n",
      "R X X X X X X \n",
      "B X X X X X X \n",
      "R X X X X X X \n",
      "B X X X X X X \n",
      "R X X X X X X \n",
      "\n",
      "B X X X X X X \n",
      "R X X X X X X \n",
      "B X X X X X X \n",
      "R X X X X X X \n",
      "B X X X X X X \n",
      "R X X X X X X \n",
      "\n",
      "B X X X X X X \n",
      "R X X X X X X \n",
      "B X X X X X X \n",
      "R X X X X X X \n",
      "B X X X X X X \n",
      "R R X X X X X \n",
      "\n",
      "B X X X X X X \n",
      "R X X X X X X \n",
      "B X X X X X X \n",
      "R X X X X X X \n",
      "B B X X X X X \n",
      "R R X X X X X \n",
      "\n",
      "B X X X X X X \n",
      "R X X X X X X \n",
      "B X X X X X X \n",
      "R R X X X X X \n",
      "B B X X X X X \n",
      "R R X X X X X \n",
      "\n",
      "B X X X X X X \n",
      "R X X X X X X \n",
      "B B X X X X X \n",
      "R R X X X X X \n",
      "B B X X X X X \n",
      "R R X X X X X \n",
      "\n",
      "B X X X X X X \n",
      "R R X X X X X \n",
      "B B X X X X X \n",
      "R R X X X X X \n",
      "B B X X X X X \n",
      "R R X X X X X \n",
      "\n",
      "B B X X X X X \n",
      "R R X X X X X \n",
      "B B X X X X X \n",
      "R R X X X X X \n",
      "B B X X X X X \n",
      "R R X X X X X \n",
      "\n",
      "B B X X X X X \n",
      "R R X X X X X \n",
      "B B X X X X X \n",
      "R R X X X X X \n",
      "B B X X X X X \n",
      "R R R X X X X \n",
      "\n",
      "B B X X X X X \n",
      "R R X X X X X \n",
      "B B X X X X X \n",
      "R R X X X X X \n",
      "B B X X X X X \n",
      "R R R B X X X \n",
      "\n",
      "B B X X X X X \n",
      "R R X X X X X \n",
      "B B X X X X X \n",
      "R R X X X X X \n",
      "B B R X X X X \n",
      "R R R B X X X \n",
      "\n",
      "B B X X X X X \n",
      "R R X X X X X \n",
      "B B X X X X X \n",
      "R R B X X X X \n",
      "B B R X X X X \n",
      "R R R B X X X \n",
      "\n",
      "B B X X X X X \n",
      "R R X X X X X \n",
      "B B R X X X X \n",
      "R R B X X X X \n",
      "B B R X X X X \n",
      "R R R B X X X \n",
      "\n",
      "B B X X X X X \n",
      "R R B X X X X \n",
      "B B R X X X X \n",
      "R R B X X X X \n",
      "B B R X X X X \n",
      "R R R B X X X \n",
      "\n",
      "B B R X X X X \n",
      "R R B X X X X \n",
      "B B R X X X X \n",
      "R R B X X X X \n",
      "B B R X X X X \n",
      "R R R B X X X \n",
      "\n",
      "B B R X X X X \n",
      "R R B X X X X \n",
      "B B R X X X X \n",
      "R R B X X X X \n",
      "B B R B X X X \n",
      "R R R B X X X \n",
      "\n",
      "B B R X X X X \n",
      "R R B X X X X \n",
      "B B R X X X X \n",
      "R R B X X X X \n",
      "B B R B X X X \n",
      "R R R B R X X \n",
      "\n",
      "B B R X X X X \n",
      "R R B X X X X \n",
      "B B R X X X X \n",
      "R R B B X X X \n",
      "B B R B X X X \n",
      "R R R B R X X \n",
      "\n",
      "B B R X X X X \n",
      "R R B X X X X \n",
      "B B R R X X X \n",
      "R R B B X X X \n",
      "B B R B X X X \n",
      "R R R B R X X \n",
      "\n",
      "B B R X X X X \n",
      "R R B B X X X \n",
      "B B R R X X X \n",
      "R R B B X X X \n",
      "B B R B X X X \n",
      "R R R B R X X \n",
      "\n",
      "B B R R X X X \n",
      "R R B B X X X \n",
      "B B R R X X X \n",
      "R R B B X X X \n",
      "B B R B X X X \n",
      "R R R B R X X \n",
      "\n",
      "B B R R X X X \n",
      "R R B B X X X \n",
      "B B R R X X X \n",
      "R R B B X X X \n",
      "B B R B B X X \n",
      "R R R B R X X \n",
      "\n",
      "B B R R X X X \n",
      "R R B B X X X \n",
      "B B R R X X X \n",
      "R R B B R X X \n",
      "B B R B B X X \n",
      "R R R B R X X \n",
      "\n",
      "B B R R X X X \n",
      "R R B B X X X \n",
      "B B R R B X X \n",
      "R R B B R X X \n",
      "B B R B B X X \n",
      "R R R B R X X \n",
      "\n",
      "B B R R X X X \n",
      "R R B B R X X \n",
      "B B R R B X X \n",
      "R R B B R X X \n",
      "B B R B B X X \n",
      "R R R B R X X \n",
      "\n",
      "B B R R B X X \n",
      "R R B B R X X \n",
      "B B R R B X X \n",
      "R R B B R X X \n",
      "B B R B B X X \n",
      "R R R B R X X \n",
      "\n",
      "B B R R B X X \n",
      "R R B B R X X \n",
      "B B R R B X X \n",
      "R R B B R X X \n",
      "B B R B B X X \n",
      "R R R B R R X \n",
      "\n",
      "B B R R B X X \n",
      "R R B B R X X \n",
      "B B R R B X X \n",
      "R R B B R X X \n",
      "B B R B B B X \n",
      "R R R B R R X \n",
      "\n",
      "B B R R B X X \n",
      "R R B B R X X \n",
      "B B R R B X X \n",
      "R R B B R R X \n",
      "B B R B B B X \n",
      "R R R B R R X \n",
      "\n",
      "B B R R B X X \n",
      "R R B B R X X \n",
      "B B R R B B X \n",
      "R R B B R R X \n",
      "B B R B B B X \n",
      "R R R B R R X \n",
      "\n",
      "B B R R B X X \n",
      "R R B B R R X \n",
      "B B R R B B X \n",
      "R R B B R R X \n",
      "B B R B B B X \n",
      "R R R B R R X \n",
      "\n",
      "B B R R B B X \n",
      "R R B B R R X \n",
      "B B R R B B X \n",
      "R R B B R R X \n",
      "B B R B B B X \n",
      "R R R B R R X \n",
      "\n",
      "B B R R B B X \n",
      "R R B B R R X \n",
      "B B R R B B X \n",
      "R R B B R R X \n",
      "B B R B B B X \n",
      "R R R B R R R \n",
      "\n",
      "B B R R B B X \n",
      "R R B B R R X \n",
      "B B R R B B X \n",
      "R R B B R R X \n",
      "B B R B B B B \n",
      "R R R B R R R \n",
      "\n"
     ]
    },
    {
     "data": {
      "text/plain": [
       "(2, 38)"
      ]
     },
     "execution_count": 11,
     "metadata": {},
     "output_type": "execute_result"
    }
   ],
   "source": [
    "playgame(makeMoveABPruning,makeMoveABPruning,True)"
   ]
  },
  {
   "cell_type": "code",
   "execution_count": 12,
   "metadata": {
    "collapsed": false
   },
   "outputs": [
    {
     "name": "stdout",
     "output_type": "stream",
     "text": [
      "X X X X X X X \n",
      "X X X X X X X \n",
      "X X X X X X X \n",
      "X X X X X X X \n",
      "X X X X X X X \n",
      "R X X X X X X \n",
      "\n",
      "X X X X X X X \n",
      "X X X X X X X \n",
      "X X X X X X X \n",
      "X X X X X X X \n",
      "B X X X X X X \n",
      "R X X X X X X \n",
      "\n",
      "X X X X X X X \n",
      "X X X X X X X \n",
      "X X X X X X X \n",
      "R X X X X X X \n",
      "B X X X X X X \n",
      "R X X X X X X \n",
      "\n",
      "X X X X X X X \n",
      "X X X X X X X \n",
      "B X X X X X X \n",
      "R X X X X X X \n",
      "B X X X X X X \n",
      "R X X X X X X \n",
      "\n",
      "X X X X X X X \n",
      "R X X X X X X \n",
      "B X X X X X X \n",
      "R X X X X X X \n",
      "B X X X X X X \n",
      "R X X X X X X \n",
      "\n",
      "B X X X X X X \n",
      "R X X X X X X \n",
      "B X X X X X X \n",
      "R X X X X X X \n",
      "B X X X X X X \n",
      "R X X X X X X \n",
      "\n",
      "B X X X X X X \n",
      "R X X X X X X \n",
      "B X X X X X X \n",
      "R X X X X X X \n",
      "B X X X X X X \n",
      "R R X X X X X \n",
      "\n",
      "B X X X X X X \n",
      "R X X X X X X \n",
      "B X X X X X X \n",
      "R X X X X X X \n",
      "B B X X X X X \n",
      "R R X X X X X \n",
      "\n",
      "B X X X X X X \n",
      "R X X X X X X \n",
      "B X X X X X X \n",
      "R R X X X X X \n",
      "B B X X X X X \n",
      "R R X X X X X \n",
      "\n",
      "B X X X X X X \n",
      "R X X X X X X \n",
      "B B X X X X X \n",
      "R R X X X X X \n",
      "B B X X X X X \n",
      "R R X X X X X \n",
      "\n",
      "B X X X X X X \n",
      "R R X X X X X \n",
      "B B X X X X X \n",
      "R R X X X X X \n",
      "B B X X X X X \n",
      "R R X X X X X \n",
      "\n",
      "B B X X X X X \n",
      "R R X X X X X \n",
      "B B X X X X X \n",
      "R R X X X X X \n",
      "B B X X X X X \n",
      "R R X X X X X \n",
      "\n",
      "B B X X X X X \n",
      "R R X X X X X \n",
      "B B X X X X X \n",
      "R R X X X X X \n",
      "B B X X X X X \n",
      "R R R X X X X \n",
      "\n",
      "B B X X X X X \n",
      "R R X X X X X \n",
      "B B X X X X X \n",
      "R R X X X X X \n",
      "B B X X X X X \n",
      "R R R B X X X \n",
      "\n",
      "B B X X X X X \n",
      "R R X X X X X \n",
      "B B X X X X X \n",
      "R R X X X X X \n",
      "B B R X X X X \n",
      "R R R B X X X \n",
      "\n",
      "B B X X X X X \n",
      "R R X X X X X \n",
      "B B X X X X X \n",
      "R R B X X X X \n",
      "B B R X X X X \n",
      "R R R B X X X \n",
      "\n",
      "B B X X X X X \n",
      "R R X X X X X \n",
      "B B R X X X X \n",
      "R R B X X X X \n",
      "B B R X X X X \n",
      "R R R B X X X \n",
      "\n",
      "B B X X X X X \n",
      "R R B X X X X \n",
      "B B R X X X X \n",
      "R R B X X X X \n",
      "B B R X X X X \n",
      "R R R B X X X \n",
      "\n",
      "B B R X X X X \n",
      "R R B X X X X \n",
      "B B R X X X X \n",
      "R R B X X X X \n",
      "B B R X X X X \n",
      "R R R B X X X \n",
      "\n",
      "B B R X X X X \n",
      "R R B X X X X \n",
      "B B R X X X X \n",
      "R R B X X X X \n",
      "B B R B X X X \n",
      "R R R B X X X \n",
      "\n",
      "B B R X X X X \n",
      "R R B X X X X \n",
      "B B R X X X X \n",
      "R R B X X X X \n",
      "B B R B X X X \n",
      "R R R B R X X \n",
      "\n",
      "B B R X X X X \n",
      "R R B X X X X \n",
      "B B R X X X X \n",
      "R R B B X X X \n",
      "B B R B X X X \n",
      "R R R B R X X \n",
      "\n",
      "B B R X X X X \n",
      "R R B X X X X \n",
      "B B R R X X X \n",
      "R R B B X X X \n",
      "B B R B X X X \n",
      "R R R B R X X \n",
      "\n",
      "B B R X X X X \n",
      "R R B B X X X \n",
      "B B R R X X X \n",
      "R R B B X X X \n",
      "B B R B X X X \n",
      "R R R B R X X \n",
      "\n",
      "B B R R X X X \n",
      "R R B B X X X \n",
      "B B R R X X X \n",
      "R R B B X X X \n",
      "B B R B X X X \n",
      "R R R B R X X \n",
      "\n",
      "B B R R X X X \n",
      "R R B B X X X \n",
      "B B R R X X X \n",
      "R R B B X X X \n",
      "B B R B B X X \n",
      "R R R B R X X \n",
      "\n",
      "B B R R X X X \n",
      "R R B B X X X \n",
      "B B R R X X X \n",
      "R R B B R X X \n",
      "B B R B B X X \n",
      "R R R B R X X \n",
      "\n",
      "B B R R X X X \n",
      "R R B B X X X \n",
      "B B R R B X X \n",
      "R R B B R X X \n",
      "B B R B B X X \n",
      "R R R B R X X \n",
      "\n",
      "B B R R X X X \n",
      "R R B B R X X \n",
      "B B R R B X X \n",
      "R R B B R X X \n",
      "B B R B B X X \n",
      "R R R B R X X \n",
      "\n",
      "B B R R B X X \n",
      "R R B B R X X \n",
      "B B R R B X X \n",
      "R R B B R X X \n",
      "B B R B B X X \n",
      "R R R B R X X \n",
      "\n",
      "B B R R B X X \n",
      "R R B B R X X \n",
      "B B R R B X X \n",
      "R R B B R X X \n",
      "B B R B B X X \n",
      "R R R B R R X \n",
      "\n",
      "B B R R B X X \n",
      "R R B B R X X \n",
      "B B R R B X X \n",
      "R R B B R X X \n",
      "B B R B B B X \n",
      "R R R B R R X \n",
      "\n",
      "B B R R B X X \n",
      "R R B B R X X \n",
      "B B R R B X X \n",
      "R R B B R R X \n",
      "B B R B B B X \n",
      "R R R B R R X \n",
      "\n",
      "B B R R B X X \n",
      "R R B B R X X \n",
      "B B R R B B X \n",
      "R R B B R R X \n",
      "B B R B B B X \n",
      "R R R B R R X \n",
      "\n",
      "B B R R B X X \n",
      "R R B B R R X \n",
      "B B R R B B X \n",
      "R R B B R R X \n",
      "B B R B B B X \n",
      "R R R B R R X \n",
      "\n",
      "B B R R B B X \n",
      "R R B B R R X \n",
      "B B R R B B X \n",
      "R R B B R R X \n",
      "B B R B B B X \n",
      "R R R B R R X \n",
      "\n",
      "B B R R B B X \n",
      "R R B B R R X \n",
      "B B R R B B X \n",
      "R R B B R R X \n",
      "B B R B B B X \n",
      "R R R B R R R \n",
      "\n",
      "B B R R B B X \n",
      "R R B B R R X \n",
      "B B R R B B X \n",
      "R R B B R R X \n",
      "B B R B B B B \n",
      "R R R B R R R \n",
      "\n"
     ]
    },
    {
     "data": {
      "text/plain": [
       "(2, 38)"
      ]
     },
     "execution_count": 12,
     "metadata": {},
     "output_type": "execute_result"
    }
   ],
   "source": [
    "playgame(makeMoveABPruning,makeMoveABPruning,True)"
   ]
  },
  {
   "cell_type": "markdown",
   "metadata": {},
   "source": [
    "### Q Learning"
   ]
  },
  {
   "cell_type": "markdown",
   "metadata": {},
   "source": [
    "Q Learning was the second AI algorithm implemented in our connect four game. The Q Learning algorithm must be trained initially and then called through its `makeQFunctionMove()` function. This function requires the training data be present in a global variable `Q`. The training of the Q function is rather time consuming but once it is completed the decisions for the algorithm are very quick. "
   ]
  },
  {
   "cell_type": "code",
   "execution_count": null,
   "metadata": {
    "collapsed": true
   },
   "outputs": [],
   "source": [
    "Q, stepsToGoal = trainQ(25000, 0.4, 0.9, validMoves, makeMove)"
   ]
  },
  {
   "cell_type": "code",
   "execution_count": null,
   "metadata": {
    "collapsed": true
   },
   "outputs": [],
   "source": [
    "import matplotlib.pyplot as plt\n",
    "plt.plot(stepsToGoal)\n",
    "plt.ylabel('number of steps used') \n",
    "plt.xlabel('Repetitions')\n",
    "plt.show()"
   ]
  },
  {
   "cell_type": "markdown",
   "metadata": {},
   "source": [
    "The results of the Q learning show that the number of steps never fully decreases below 14. This means the best the function seems to be able to do it a victory in 14 steps. Ideally the lower this number, the better the algorithm. This number is not a bad number. To put it into perspective, the AB algorithm was able to beat the random player in roughly 17 moves in the example above. This would fall within the range shown for the Q Learning. As the training improves and the algorithm gets better through larger sets or different training percentages, the value would hopefully decrease. As the average number of steps decreases, the algorithm shows it is learning the game better and able to win in less moves."
   ]
  },
  {
   "cell_type": "markdown",
   "metadata": {},
   "source": [
    "## Results"
   ]
  },
  {
   "cell_type": "markdown",
   "metadata": {},
   "source": [
    "To compare the algorithms we first wanted to establish the validity of the random player and use that as a guideline for the comparisons. To show the random player is truly random 1000 trials of two random players is given below. The results are very close to a 50/50 split. This means the random players do seem to be random and there is an equal chance that each could win. Branching off from this base case we can start to analyze the other algorithms. There were also a small number of 'Ties' showing that it is possible in the game of connect four to tie. This is extremely rare however and only took place in 0.2% of the trials."
   ]
  },
  {
   "cell_type": "code",
   "execution_count": 2,
   "metadata": {
    "collapsed": true
   },
   "outputs": [],
   "source": [
    "[Rand1Win, Rand2Win, Ties, AverageMoves]=mutlipleTrials(randomPlayerMakeMove,randomPlayerMakeMove,1000)"
   ]
  },
  {
   "cell_type": "code",
   "execution_count": 3,
   "metadata": {
    "collapsed": false
   },
   "outputs": [
    {
     "name": "stdout",
     "output_type": "stream",
     "text": [
      "Rand1 won: 558\n",
      "Rand2 Won: 440\n",
      "Ties: 2\n",
      "Average Moves: 21.362\n"
     ]
    }
   ],
   "source": [
    "print(\"Rand1 won: \" + str(Rand1Win))\n",
    "print(\"Rand2 Won: \" + str(Rand2Win))\n",
    "print(\"Ties: \" + str(Ties))\n",
    "print(\"Average Moves: \" + str(AverageMoves))"
   ]
  },
  {
   "cell_type": "markdown",
   "metadata": {},
   "source": [
    "The AB Pruning algorithm is tested next. First it is run against the random opponent to see how it preforms against our base case. "
   ]
  },
  {
   "cell_type": "code",
   "execution_count": 6,
   "metadata": {
    "collapsed": false
   },
   "outputs": [
    {
     "ename": "ValueError",
     "evalue": "not enough values to unpack (expected 4, got 3)",
     "output_type": "error",
     "traceback": [
      "\u001b[0;31m---------------------------------------------------------------------------\u001b[0m",
      "\u001b[0;31mValueError\u001b[0m                                Traceback (most recent call last)",
      "\u001b[0;32m<ipython-input-6-4731645bee6c>\u001b[0m in \u001b[0;36m<module>\u001b[0;34m()\u001b[0m\n\u001b[0;32m----> 1\u001b[0;31m \u001b[0;34m[\u001b[0m\u001b[0mABWin\u001b[0m\u001b[0;34m,\u001b[0m \u001b[0mRandWin\u001b[0m\u001b[0;34m,\u001b[0m \u001b[0mTies\u001b[0m\u001b[0;34m,\u001b[0m \u001b[0mAverageMoves\u001b[0m\u001b[0;34m]\u001b[0m\u001b[0;34m=\u001b[0m\u001b[0mmutlipleTrials\u001b[0m\u001b[0;34m(\u001b[0m\u001b[0mmakeMoveABPruning\u001b[0m\u001b[0;34m,\u001b[0m\u001b[0mrandomPlayerMakeMove\u001b[0m\u001b[0;34m,\u001b[0m\u001b[0;36m50\u001b[0m\u001b[0;34m)\u001b[0m\u001b[0;34m\u001b[0m\u001b[0m\n\u001b[0m",
      "\u001b[0;31mValueError\u001b[0m: not enough values to unpack (expected 4, got 3)"
     ]
    }
   ],
   "source": [
    "[ABWin, RandWin, Ties, AverageMoves]=mutlipleTrials(makeMoveABPruning,randomPlayerMakeMove,50)"
   ]
  },
  {
   "cell_type": "code",
   "execution_count": null,
   "metadata": {
    "collapsed": true
   },
   "outputs": [],
   "source": [
    "print(\"AB won: \" + str(ABWin))\n",
    "print(\"Rand Won: \" + str(RandWin))\n",
    "print(\"Ties: \" + str(Ties))\n",
    "print(\"Average Moves: \" + str(AverageMoves))"
   ]
  },
  {
   "cell_type": "markdown",
   "metadata": {},
   "source": [
    "Results discussed  here:"
   ]
  },
  {
   "cell_type": "markdown",
   "metadata": {},
   "source": [
    "The Q Learning algorithm can also be tested against our base opponent. The results of 50 trials are shown below. (For our implementations the Q function must be the second player.)"
   ]
  },
  {
   "cell_type": "code",
   "execution_count": 4,
   "metadata": {
    "collapsed": false
   },
   "outputs": [],
   "source": [
    "[RandWin, QWin, Ties]=mutlipleTrials(randomPlayerMakeMove,makeQFunctionMove,50)"
   ]
  },
  {
   "cell_type": "code",
   "execution_count": 5,
   "metadata": {
    "collapsed": false
   },
   "outputs": [
    {
     "name": "stdout",
     "output_type": "stream",
     "text": [
      "Rand won: 13\n",
      "Q Won: 37\n",
      "Ties: 0\n"
     ]
    },
    {
     "ename": "NameError",
     "evalue": "name 'AverageMoves' is not defined",
     "output_type": "error",
     "traceback": [
      "\u001b[0;31m---------------------------------------------------------------------------\u001b[0m",
      "\u001b[0;31mNameError\u001b[0m                                 Traceback (most recent call last)",
      "\u001b[0;32m<ipython-input-5-844dc801ce4a>\u001b[0m in \u001b[0;36m<module>\u001b[0;34m()\u001b[0m\n\u001b[1;32m      2\u001b[0m \u001b[0mprint\u001b[0m\u001b[0;34m(\u001b[0m\u001b[0;34m\"Q Won: \"\u001b[0m \u001b[0;34m+\u001b[0m \u001b[0mstr\u001b[0m\u001b[0;34m(\u001b[0m\u001b[0mQWin\u001b[0m\u001b[0;34m)\u001b[0m\u001b[0;34m)\u001b[0m\u001b[0;34m\u001b[0m\u001b[0m\n\u001b[1;32m      3\u001b[0m \u001b[0mprint\u001b[0m\u001b[0;34m(\u001b[0m\u001b[0;34m\"Ties: \"\u001b[0m \u001b[0;34m+\u001b[0m \u001b[0mstr\u001b[0m\u001b[0;34m(\u001b[0m\u001b[0mTies\u001b[0m\u001b[0;34m)\u001b[0m\u001b[0;34m)\u001b[0m\u001b[0;34m\u001b[0m\u001b[0m\n\u001b[0;32m----> 4\u001b[0;31m \u001b[0mprint\u001b[0m\u001b[0;34m(\u001b[0m\u001b[0;34m\"Average Moves: \"\u001b[0m \u001b[0;34m+\u001b[0m \u001b[0mstr\u001b[0m\u001b[0;34m(\u001b[0m\u001b[0mAverageMoves\u001b[0m\u001b[0;34m)\u001b[0m\u001b[0;34m)\u001b[0m\u001b[0;34m\u001b[0m\u001b[0m\n\u001b[0m",
      "\u001b[0;31mNameError\u001b[0m: name 'AverageMoves' is not defined"
     ]
    }
   ],
   "source": [
    "print(\"Rand won: \" + str(RandWin))\n",
    "print(\"Q Won: \" + str(QWin))\n",
    "print(\"Ties: \" + str(Ties))\n",
    "print(\"Average Moves: \" + str(AverageMoves))"
   ]
  },
  {
   "cell_type": "markdown",
   "metadata": {},
   "source": [
    "The final test between our algorithms is a battle between them. The AB pruning is played against the Q Learning to see which opponent wins and how often. We will also look at the number of moves and see if that varies from our other selections. Ideally the number of moves would be rather high since each player would be smart enough to not fall for simple early losses. 50 data points are used due to the long amount of time it takes to run a simulation with the AB pruning method."
   ]
  },
  {
   "cell_type": "code",
   "execution_count": null,
   "metadata": {
    "collapsed": true
   },
   "outputs": [],
   "source": [
    "[ABWin, QWin, Ties]=mutlipleTrials(makeMoveABPruning,makeQFunctionMove,50)"
   ]
  },
  {
   "cell_type": "markdown",
   "metadata": {},
   "source": [
    "## Conclusion"
   ]
  },
  {
   "cell_type": "code",
   "execution_count": null,
   "metadata": {
    "collapsed": true
   },
   "outputs": [],
   "source": []
  }
 ],
 "metadata": {
  "kernelspec": {
   "display_name": "Python 3",
   "language": "python",
   "name": "python3"
  },
  "language_info": {
   "codemirror_mode": {
    "name": "ipython",
    "version": 3
   },
   "file_extension": ".py",
   "mimetype": "text/x-python",
   "name": "python",
   "nbconvert_exporter": "python",
   "pygments_lexer": "ipython3",
   "version": "3.5.1"
  }
 },
 "nbformat": 4,
 "nbformat_minor": 2
}
