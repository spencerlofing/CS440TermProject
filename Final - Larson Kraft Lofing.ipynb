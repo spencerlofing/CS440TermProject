{
 "cells": [
  {
   "cell_type": "markdown",
   "metadata": {},
   "source": [
    "# Final Project - Connect 4"
   ]
  },
  {
   "cell_type": "markdown",
   "metadata": {},
   "source": [
    "Joseph Larson, Joel Kraft, Spencer Lofing"
   ]
  },
  {
   "cell_type": "code",
   "execution_count": 36,
   "metadata": {
    "collapsed": true
   },
   "outputs": [],
   "source": [
    "import copy\n",
    "import numpy as np\n",
    "import matplotlib.pyplot as plt\n",
    "import random\n",
    "%matplotlib inline\n",
    "\n",
    "state = [['R', 'B', 'R', 'B', 'R', 'B'], [], ['B'], [], [], [], []]\n",
    "\n",
    "def printState(state):\n",
    "    copystate = copy.deepcopy(state)\n",
    "    for slot in copystate:\n",
    "        slotlength = len(slot)\n",
    "        for i in range(0, 6 - slotlength):\n",
    "           slot.insert(0, 'X')\n",
    "\n",
    "    for i in range(0, 6):\n",
    "        temp = ''\n",
    "        for slot in copystate:\n",
    "            temp = temp + slot[i] + ' '\n",
    "        print(temp)\n",
    "    print()\n",
    "\n",
    "def validMoves(state):\n",
    "    listOfMoves = []\n",
    "    for i in range(0, len(state)):\n",
    "        if len(state[i]) < 6:\n",
    "            listOfMoves.append(i)\n",
    "    return listOfMoves\n",
    "\n",
    "def makeMove(state, move, color):\n",
    "    copystate = copy.deepcopy(state)\n",
    "    copystate[move].insert(0, color)\n",
    "    return copystate\n",
    "    \n",
    "def reachedGoalState(state):\n",
    "    #Fill all slots for computation\n",
    "    copystate = copy.deepcopy(state)\n",
    "    for slot in copystate:\n",
    "        slotlength = len(slot)\n",
    "        for i in range(0, 6 - slotlength):\n",
    "            slot.insert(0, 'X')\n",
    "\n",
    "    #Vertical checks\n",
    "    for slot in copystate:\n",
    "        for i in range(0,3):\n",
    "            if (slot[i] == slot[i+1]) & (slot[i] == slot[i+2]) & (slot[i] == slot[i+3]) & (slot[i] != 'X'):\n",
    "                return 1\n",
    "\n",
    "    #Horizontal checks\n",
    "    for j in range(0,4):\n",
    "        for i in range(0,len(copystate[0])):\n",
    "            if (copystate[j][i] == copystate[j+1][i]) & (copystate[j][i] == copystate[j+2][i]) & \\\n",
    "                    (copystate[j][i] == copystate[j+3][i]) & (copystate[j][i] != 'X'):\n",
    "                return 1\n",
    "\n",
    "    #Diaganol up-right\n",
    "    for i in range(0,4): #row\n",
    "        for j in range(3,6): #column\n",
    "            if (copystate[i][j] == copystate[i+1][j-1]) & (copystate[i][j] == copystate[i+2][j-2]) & \\\n",
    "                    (copystate[i][j] == copystate[i+3][j-3]) & (copystate[i][j] != 'X'):\n",
    "                return 1\n",
    "\n",
    "    # Diaganol up-left\n",
    "    for i in range(0, 4):  # row\n",
    "        for j in range(0, 3):  # column\n",
    "            if (copystate[i][j] == copystate[i + 1][j + 1]) & (copystate[i][j] == copystate[i + 2][j + 2]) & \\\n",
    "                    (copystate[i][j] == copystate[i + 3][j + 3]) & (copystate[i][j] != 'X'):\n",
    "                return 1\n",
    "    #tie\n",
    "    if (validMoves(state) == []):\n",
    "        return -1\n",
    "    #not a goal state\n",
    "    return 0\n",
    "\n",
    "\n",
    "\n",
    "def playgame(algorithm1MakeMove, algorithm2MakeMove, verbose=False):\n",
    "    #Plays the game with algorithm1 making the first move\n",
    "    #Will return a 1 if algorithm1 ('R') wins,\n",
    "    #a 2 if algorithm2 ('B') wins, or\n",
    "    #a 0 if a tie is reached\n",
    "    #Returns (winner,number of moves)\n",
    "    #Verbose =True will display the game board for every move\n",
    "\n",
    "    state = [[],[],[],[],[],[],[]]\n",
    "    count = 0;\n",
    "    while(validMoves(state) != []):\n",
    "        #'R' goes first\n",
    "        NewState = algorithm1MakeMove(state,'R')\n",
    "        count = count + 1\n",
    "        if (verbose):\n",
    "            printState(state)\n",
    "        if reachedGoalState(NewState) == 1:\n",
    "            return 1, count\n",
    "        elif reachedGoalState(NewState) == -1:\n",
    "            return 0, count\n",
    "        else:\n",
    "            state = NewState\n",
    "        #'B' goes second\n",
    "        NewState = algorithm2MakeMove(state, 'B')\n",
    "        count = count + 1\n",
    "        if (verbose):\n",
    "            printState(state)\n",
    "        if reachedGoalState(NewState) == 1:\n",
    "            return 2,count\n",
    "        elif reachedGoalState(NewState) == -1:\n",
    "            return 0,count\n",
    "        else:\n",
    "            state = NewState"
   ]
  },
  {
   "cell_type": "code",
   "execution_count": 16,
   "metadata": {
    "collapsed": true
   },
   "outputs": [],
   "source": [
    "def userInputMakeMove(state,color):\n",
    "    #Code will loop until a valid move is recieved\n",
    "\n",
    "    #Print the board\n",
    "    validInput = False\n",
    "    while(validInput == False):\n",
    "        printState(state)\n",
    "        #print prompt and options\n",
    "        print(\"You are: '\" + color +\"'\")\n",
    "        print(\"Possible Options: \")\n",
    "        options = validMoves(state)\n",
    "        print(options)\n",
    "        choice = input(\"enter number of column (0-6) of desired move: \")\n",
    "\n",
    "        #check fo a valid integer\n",
    "        if (choice.isnumeric()):\n",
    "            Inputchoice = int(choice)\n",
    "            if ((Inputchoice < 7) & (Inputchoice >= 0) & (Inputchoice in options)):\n",
    "                state = makeMove(state, Inputchoice, color)\n",
    "                validInput = True\n",
    "\n",
    "        if(validInput == False):\n",
    "            print(\"ERROR: invlaid Entry\")\n",
    "            print(\"Try again. Input a number from 0-6 for desired column\")\n",
    "            print()\n",
    "    return state"
   ]
  },
  {
   "cell_type": "code",
   "execution_count": 17,
   "metadata": {
    "collapsed": true
   },
   "outputs": [],
   "source": [
    "def randomPlayerMakeMove(state,color):\n",
    "    options = validMoves(state)\n",
    "    choice = random.choice(options)\n",
    "\n",
    "    state=makeMove(state, choice, color)\n",
    "    return state"
   ]
  },
  {
   "cell_type": "code",
   "execution_count": 18,
   "metadata": {
    "scrolled": true
   },
   "outputs": [
    {
     "name": "stdout",
     "output_type": "stream",
     "text": [
      "R X X X X X X \n",
      "B X X X X X X \n",
      "R X X X X X X \n",
      "B X X X X X X \n",
      "R X X X X X X \n",
      "B X B X X X X \n",
      "\n"
     ]
    }
   ],
   "source": [
    "printState(state)"
   ]
  },
  {
   "cell_type": "markdown",
   "metadata": {},
   "source": [
    "The `playgame()` function takes the make move functions for two different algorithms in as inputs. The make move algorithms must take in the state and the color and return the new state after the move. The first function will go first in the game. The user can also play by useing the `userInputMakeMove()` method. The results are given in the format (winner, number of moves)\n",
    "\n",
    "Example for user playing a random oponent is given below:\n",
    "\n",
    "`(winner, moves) = playgame(randomPlayerMakeMove,userInputMakeMove,verboseOutput)`"
   ]
  },
  {
   "cell_type": "code",
   "execution_count": 34,
   "metadata": {},
   "outputs": [
    {
     "data": {
      "text/plain": [
       "(1, 19)"
      ]
     },
     "execution_count": 34,
     "metadata": {},
     "output_type": "execute_result"
    }
   ],
   "source": [
    "playgame(randomPlayerMakeMove,randomPlayerMakeMove)"
   ]
  },
  {
   "cell_type": "code",
   "execution_count": 35,
   "metadata": {
    "scrolled": false
   },
   "outputs": [
    {
     "name": "stdout",
     "output_type": "stream",
     "text": [
      "X X X X X X X \n",
      "X X X X X X X \n",
      "X X X X X X X \n",
      "X X X X X X X \n",
      "X X X X X X X \n",
      "X X X X X X X \n",
      "\n",
      "X X X X X X X \n",
      "X X X X X X X \n",
      "X X X X X X X \n",
      "X X X X X X X \n",
      "X X X X X X X \n",
      "X X R X X X X \n",
      "\n",
      "X X X X X X X \n",
      "X X X X X X X \n",
      "X X X X X X X \n",
      "X X X X X X X \n",
      "X X X X X X X \n",
      "X X R X B X X \n",
      "\n",
      "X X X X X X X \n",
      "X X X X X X X \n",
      "X X X X X X X \n",
      "X X X X X X X \n",
      "X X X X X X X \n",
      "R X R X B X X \n",
      "\n",
      "X X X X X X X \n",
      "X X X X X X X \n",
      "X X X X X X X \n",
      "X X X X X X X \n",
      "X X X X X X X \n",
      "R X R B B X X \n",
      "\n",
      "X X X X X X X \n",
      "X X X X X X X \n",
      "X X X X X X X \n",
      "X X X X X X X \n",
      "X X R X X X X \n",
      "R X R B B X X \n",
      "\n",
      "X X X X X X X \n",
      "X X X X X X X \n",
      "X X X X X X X \n",
      "X X X X X X X \n",
      "X X R X X X X \n",
      "R B R B B X X \n",
      "\n",
      "X X X X X X X \n",
      "X X X X X X X \n",
      "X X X X X X X \n",
      "X X X X X X X \n",
      "X R R X X X X \n",
      "R B R B B X X \n",
      "\n",
      "X X X X X X X \n",
      "X X X X X X X \n",
      "X X X X X X X \n",
      "X X X X X X X \n",
      "X R R X X X X \n",
      "R B R B B B X \n",
      "\n",
      "X X X X X X X \n",
      "X X X X X X X \n",
      "X X X X X X X \n",
      "X X X X X X X \n",
      "R R R X X X X \n",
      "R B R B B B X \n",
      "\n",
      "X X X X X X X \n",
      "X X X X X X X \n",
      "X X X X X X X \n",
      "X X X X X X X \n",
      "R R R X B X X \n",
      "R B R B B B X \n",
      "\n",
      "X X X X X X X \n",
      "X X X X X X X \n",
      "X X X X X X X \n",
      "X X X X R X X \n",
      "R R R X B X X \n",
      "R B R B B B X \n",
      "\n",
      "X X X X X X X \n",
      "X X X X X X X \n",
      "X X X X B X X \n",
      "X X X X R X X \n",
      "R R R X B X X \n",
      "R B R B B B X \n",
      "\n",
      "X X X X X X X \n",
      "X X X X X X X \n",
      "X X X X B X X \n",
      "X R X X R X X \n",
      "R R R X B X X \n",
      "R B R B B B X \n",
      "\n",
      "X X X X X X X \n",
      "X X X X B X X \n",
      "X X X X B X X \n",
      "X R X X R X X \n",
      "R R R X B X X \n",
      "R B R B B B X \n",
      "\n",
      "X X X X X X X \n",
      "X X X X B X X \n",
      "X R X X B X X \n",
      "X R X X R X X \n",
      "R R R X B X X \n",
      "R B R B B B X \n",
      "\n",
      "X X X X X X X \n",
      "X X X X B X X \n",
      "X R X X B X X \n",
      "X R X X R X X \n",
      "R R R B B X X \n",
      "R B R B B B X \n",
      "\n",
      "X X X X X X X \n",
      "X X X X B X X \n",
      "X R X X B X X \n",
      "X R R X R X X \n",
      "R R R B B X X \n",
      "R B R B B B X \n",
      "\n",
      "X X X X X X X \n",
      "X X X X B X X \n",
      "X R X X B X X \n",
      "B R R X R X X \n",
      "R R R B B X X \n",
      "R B R B B B X \n",
      "\n",
      "X X X X R X X \n",
      "X X X X B X X \n",
      "X R X X B X X \n",
      "B R R X R X X \n",
      "R R R B B X X \n",
      "R B R B B B X \n",
      "\n",
      "X X X X R X X \n",
      "X X X X B X X \n",
      "X R X X B X X \n",
      "B R R B R X X \n",
      "R R R B B X X \n",
      "R B R B B B X \n",
      "\n"
     ]
    },
    {
     "data": {
      "text/plain": [
       "(1, 21)"
      ]
     },
     "execution_count": 35,
     "metadata": {},
     "output_type": "execute_result"
    }
   ],
   "source": [
    "playgame(randomPlayerMakeMove,randomPlayerMakeMove,True)"
   ]
  },
  {
   "cell_type": "code",
   "execution_count": 19,
   "metadata": {
    "collapsed": true
   },
   "outputs": [],
   "source": [
    "def stateMoveTuple(state, move, color) :\n",
    "    return ((tuple(state[0]), tuple(state[1]), tuple(state[2]), tuple(state[3]), tuple(state[4]), tuple(state[5]), tuple(state[6])), move, color)"
   ]
  },
  {
   "cell_type": "code",
   "execution_count": 20,
   "metadata": {},
   "outputs": [
    {
     "data": {
      "text/plain": [
       "((('R', 'B', 'R', 'B', 'R', 'B'), (), ('B',), (), (), (), ()), 3, 'R')"
      ]
     },
     "execution_count": 20,
     "metadata": {},
     "output_type": "execute_result"
    }
   ],
   "source": [
    "stateMoveTuple(state, 3, 'R')"
   ]
  },
  {
   "cell_type": "code",
   "execution_count": 21,
   "metadata": {},
   "outputs": [
    {
     "data": {
      "text/plain": [
       "[1, 2, 3, 4, 5, 6]"
      ]
     },
     "execution_count": 21,
     "metadata": {},
     "output_type": "execute_result"
    }
   ],
   "source": [
    "validMoves(state)"
   ]
  },
  {
   "cell_type": "code",
   "execution_count": 22,
   "metadata": {},
   "outputs": [
    {
     "data": {
      "text/plain": [
       "[['R', 'B', 'R', 'B', 'R', 'B'], ['R'], ['B'], [], [], [], []]"
      ]
     },
     "execution_count": 22,
     "metadata": {},
     "output_type": "execute_result"
    }
   ],
   "source": [
    "makeMove(state, 1, \"R\")"
   ]
  },
  {
   "cell_type": "code",
   "execution_count": 23,
   "metadata": {},
   "outputs": [
    {
     "data": {
      "text/plain": [
       "[['R', 'B', 'R', 'B', 'R', 'B'], [], ['B'], [], [], [], []]"
      ]
     },
     "execution_count": 23,
     "metadata": {},
     "output_type": "execute_result"
    }
   ],
   "source": [
    "state"
   ]
  },
  {
   "cell_type": "code",
   "execution_count": 24,
   "metadata": {
    "collapsed": true
   },
   "outputs": [],
   "source": [
    "def trainQ(nRepetitions, learningRate, epsilonDecayFactor, validMovesF, makeMoveF, startState = [[], [], [], [], [], [], []]) :\n",
    "    epsilon = 1.0\n",
    "    Q = {}\n",
    "    steps = []\n",
    "    \n",
    "    for repetition in range(nRepetitions):\n",
    "        epsilon *= epsilonDecayFactor\n",
    "        step = 0\n",
    "        state =  startState\n",
    "        done = False\n",
    "        while not done:\n",
    "            #Blue's turn\n",
    "            step += 1\n",
    "            move = epsilonGreedy(epsilon, Q, state, validMovesF)\n",
    "            stateNew = makeMove(state, move, 'B')\n",
    "            if stateMoveTuple(state,move, 'B') not in Q:\n",
    "                Q[stateMoveTuple(state,move, 'B')] = -1  # initial Q value for new board,move\n",
    "\n",
    "            if reachedGoalState(stateNew):\n",
    "                # solved!\n",
    "                Q[stateMoveTuple(state,move, 'B')] = 0\n",
    "                done = True\n",
    "                \n",
    "            elif len(validMovesF(stateNew)) is 0 : \n",
    "                done = True\n",
    "                Q[stateMoveTuple(state,move, 'B')] = -1\n",
    "                \n",
    "            else : \n",
    "                # Red's turn\n",
    "                validRedMoves = validMovesF(stateNew)\n",
    "                moveO = validRedMoves[np.random.choice(len(validRedMoves))]\n",
    "                makeMoveF(state, moveO, 'R')\n",
    "                if reachedGoalState(stateNew):\n",
    "                    # solved for Red\n",
    "                    Q[stateMoveTuple(state,move, 'B')] += rho * (-1 - Q[stateMoveTuple(state,move, 'B')])\n",
    "                    done = True\n",
    "                \n",
    "            if step > 1:\n",
    "                Q[stateMoveTuple(stateOld,moveOld, 'B')] += learningRate * (-1 + Q[stateMoveTuple(state,move, 'B')] - Q[stateMoveTuple(stateOld,moveOld, 'B')])\n",
    "\n",
    "            stateOld, moveOld = state, move # remember board and move to Q(board,move) can be updated after next steps\n",
    "            state = stateNew\n",
    "        steps.append(step)\n",
    "    return Q, np.array(steps)"
   ]
  },
  {
   "cell_type": "code",
   "execution_count": 25,
   "metadata": {
    "collapsed": true
   },
   "outputs": [],
   "source": [
    "def epsilonGreedy(epsilon, Q, state, validMovesF):\n",
    "    validMoves = validMovesF(state)\n",
    "    if np.random.uniform() < epsilon:\n",
    "        # Random Move\n",
    "        return validMoves[np.random.choice(len(validMoves))]\n",
    "    else:\n",
    "        # Greedy Move\n",
    "        Qs = np.array([Q.get(stateMoveTuple(state, m, 'B'), 0) for m in validMoves]) \n",
    "        return validMoves[ np.argmax(Qs) ]"
   ]
  },
  {
   "cell_type": "code",
   "execution_count": 26,
   "metadata": {
    "collapsed": true
   },
   "outputs": [],
   "source": [
    "def testQ(Q, maxSteps, validMovesF, makeMoveF, startState = [[], [], [], [], [], [], []]) : \n",
    "    state = startState\n",
    "    listOfStates = []\n",
    "\n",
    "    for steps in range(maxSteps) : \n",
    "        listOfStates.append(state)\n",
    "        move = epsilonGreedy(0, Q, state, validMovesF)\n",
    "        stateNew = makeMoveF(state, move, 'B')\n",
    "        state = stateNew\n",
    "        if reachedGoalState(stateNew) :\n",
    "            listOfStates.append(stateNew)\n",
    "            return listOfStates\n",
    "        \n",
    "        validRedMoves = validMovesF(stateNew)\n",
    "        moveRed = validRedMoves[np.random.choice(len(validRedMoves))]\n",
    "        statePostRed = makeMoveF(state, moveRed, 'R')\n",
    "        state = statePostRed\n",
    "        if reachedGoalState(stateNew):\n",
    "            return listOfStates\n",
    "    return []"
   ]
  },
  {
   "cell_type": "code",
   "execution_count": 27,
   "metadata": {},
   "outputs": [
    {
     "data": {
      "text/plain": [
       "0"
      ]
     },
     "execution_count": 27,
     "metadata": {},
     "output_type": "execute_result"
    }
   ],
   "source": [
    "reachedGoalState(state)"
   ]
  },
  {
   "cell_type": "code",
   "execution_count": 28,
   "metadata": {
    "collapsed": true
   },
   "outputs": [],
   "source": [
    "Q, stepsToGoal = trainQ(1000, 0.5, 0.7, validMoves, makeMove)"
   ]
  },
  {
   "cell_type": "code",
   "execution_count": 29,
   "metadata": {},
   "outputs": [
    {
     "data": {
      "image/png": "[encoded data removed]",
      "text/plain": [
       "<matplotlib.figure.Figure at 0x7f6d55824860>"
      ]
     },
     "metadata": {},
     "output_type": "display_data"
    }
   ],
   "source": [
    "plt.plot(stepsToGoal)\n",
    "plt.ylabel('number of steps used')\n",
    "plt.xlabel('Repetitions')\n",
    "plt.show()"
   ]
  },
  {
   "cell_type": "code",
   "execution_count": 30,
   "metadata": {
    "collapsed": true
   },
   "outputs": [],
   "source": [
    "path = testQ(Q, 20, validMoves, makeMove)"
   ]
  },
  {
   "cell_type": "code",
   "execution_count": 31,
   "metadata": {
    "scrolled": false
   },
   "outputs": [
    {
     "name": "stdout",
     "output_type": "stream",
     "text": [
      "X X X X X X X \n",
      "X X X X X X X \n",
      "X X X X X X X \n",
      "X X X X X X X \n",
      "X X X X X X X \n",
      "X X X X X X X \n",
      "\n",
      "\n",
      "X X X X X X X \n",
      "X X X X X X X \n",
      "X X X X X X X \n",
      "X X X X X X X \n",
      "X X X X X X X \n",
      "X X B X X X R \n",
      "\n",
      "\n",
      "X X X X X X X \n",
      "X X X X X X X \n",
      "X X X X X X X \n",
      "X X X X X X X \n",
      "X X X X X X X \n",
      "B X B X R X R \n",
      "\n",
      "\n",
      "X X X X X X X \n",
      "X X X X X X X \n",
      "X X X X X X X \n",
      "X X X X X X X \n",
      "B X X X X X R \n",
      "B X B X R X R \n",
      "\n",
      "\n",
      "X X X X X X X \n",
      "X X X X X X X \n",
      "X X X X X X X \n",
      "B X X X X X X \n",
      "B X X X X X R \n",
      "B R B X R X R \n",
      "\n",
      "\n",
      "X X X X X X X \n",
      "X X X X X X X \n",
      "B X X X X X X \n",
      "B X X X X X X \n",
      "B X X X X X R \n",
      "B R B X R X R \n",
      "\n",
      "\n"
     ]
    }
   ],
   "source": [
    "for s in path:\n",
    "    printState(s)\n",
    "    print()"
   ]
  },
  {
   "cell_type": "code",
   "execution_count": null,
   "metadata": {
    "collapsed": true
   },
   "outputs": [],
   "source": [
    "def getUtility(state, color):\n",
    "    copystate = copy.deepcopy(state)\n",
    "    for slot in copystate:\n",
    "        slotlength = len(slot)\n",
    "        for i in range(0, 6 - slotlength):\n",
    "            slot.insert(0, 'X')\n",
    "\n",
    "    # Vertical checks\n",
    "    for slot in copystate:\n",
    "        for i in range(0, 3):\n",
    "            if (slot[i] == slot[i + 1]) & (slot[i] == slot[i + 2]) & (slot[i] == slot[i + 3]) & (slot[i] != 'X'):\n",
    "                if slot[i] == color:\n",
    "                    return 1\n",
    "                else:\n",
    "                    return -1\n",
    "\n",
    "    # Horizontal checks\n",
    "    for j in range(0, 4):\n",
    "        for i in range(0, len(copystate[0])):\n",
    "            if (copystate[j][i] == copystate[j + 1][i]) & (copystate[j][i] == copystate[j + 2][i]) & \\\n",
    "                    (copystate[j][i] == copystate[j + 3][i]) & (copystate[j][i] != 'X'):\n",
    "                if copystate[j][i] == color:\n",
    "                    return 1\n",
    "                else:\n",
    "                    return -1\n",
    "\n",
    "    # Diaganol up-right\n",
    "    for i in range(0, 4):  # row\n",
    "        for j in range(3, 6):  # column\n",
    "            if (copystate[i][j] == copystate[i + 1][j - 1]) & (copystate[i][j] == copystate[i + 2][j - 2]) & \\\n",
    "                    (copystate[i][j] == copystate[i + 3][j - 3]) & (copystate[i][j] != 'X'):\n",
    "                if copystate[i][j] == color:\n",
    "                    return 1\n",
    "                else:\n",
    "                    return -1\n",
    "\n",
    "    # Diaganol up-left\n",
    "    for i in range(0, 4):  # row\n",
    "        for j in range(0, 3):  # column\n",
    "            if (copystate[i][j] == copystate[i + 1][j + 1]) & (copystate[i][j] == copystate[i + 2][j + 2]) & \\\n",
    "                    (copystate[i][j] == copystate[i + 3][j + 3]) & (copystate[i][j] != 'X'):\n",
    "                if copystate[i][j] == color:\n",
    "                    return 1\n",
    "                else:\n",
    "                    return -1\n",
    "\n",
    "    # not a goal state or a tie\n",
    "    return 0"
   ]
  },
  {
   "cell_type": "markdown",
   "metadata": {},
   "source": [
    "`getUtility(state, color)` is a helper function for `negamaxab(state, depthLeft, alpha, beta, color)` which returns a 1 if the current state is a win for the provided color, a -1 if the current state is a loss for the provided color, and a 0 if the current state is a tie or a non-winning or non-losing state."
   ]
  },
  {
   "cell_type": "code",
   "execution_count": null,
   "metadata": {
    "collapsed": true
   },
   "outputs": [],
   "source": [
    "def negamaxab(state, depthLeft, alpha, beta, color):\n",
    "    opponentColor = 'R'\n",
    "    if color == 'R':\n",
    "        opponentColor = 'B'\n",
    "    if reachedGoalState(state) == 1 or depthLeft == 0:\n",
    "        return getUtility(state, color), None\n",
    "    bestValue, bestMove = None, None\n",
    "    for move in validMoves(state):\n",
    "        newState = makeMove(state, move, color)\n",
    "        value, _ = negamaxab(newState, depthLeft-1, -beta, -alpha, opponentColor)\n",
    "        #game.unmakeMove(move)\n",
    "        if value is None:\n",
    "            continue\n",
    "        value = -value\n",
    "        if bestValue is None or value > bestValue:\n",
    "            bestValue, bestMove = value, move\n",
    "        if value > alpha:\n",
    "            alpha = value\n",
    "        if alpha >= beta:\n",
    "            return alpha, bestMove\n",
    "    return bestValue, bestMove"
   ]
  },
  {
   "cell_type": "code",
   "execution_count": null,
   "metadata": {
    "collapsed": true
   },
   "outputs": [],
   "source": [
    "def negamaxIDSab(state, color, depthLimit):\n",
    "    for depth in range(depthLimit+1):\n",
    "        alpha = -float(\"inf\")\n",
    "        beta = float(\"inf\")\n",
    "        bestValue, bestMove = negamaxab(state, depth, alpha, beta, color)\n",
    "        if bestValue is 1:\n",
    "            return bestValue, bestMove\n",
    "        elif depth is depthLimit:\n",
    "            return bestValue, bestMove"
   ]
  },
  {
   "cell_type": "markdown",
   "metadata": {},
   "source": [
    "`negamaxIDSab(state, color, depthLimit)` is a variant of `negamaxab(state, depthLeft, alpha, beta, color)` which iteratively searches through depth levels of possible moves and returns the best value (1 for a win, -1 for a loss, and 0 for a tie/unresolved state) and the best move to take which corresponds with that value"
   ]
  },
  {
   "cell_type": "code",
   "execution_count": null,
   "metadata": {
    "collapsed": true
   },
   "outputs": [],
   "source": [
    "def makeMoveABPruning(state, color):\n",
    "    _, move = negamaxIDSab(state, color, 7)\n",
    "    state = makeMove(state, move, color)\n",
    "    return state"
   ]
  },
  {
   "cell_type": "markdown",
   "metadata": {},
   "source": [
    "`makeMoveABPruning(state, color)` is a function that returns the current best move as determined by `negamaxIDSab(state, color, depthLimit)` where depth limit is set at 7. However, the depth can be edited easily to make the makeMove function better or worse at choosing next moves."
   ]
  }
 ],
 "metadata": {
  "kernelspec": {
   "display_name": "Python 3",
   "language": "python",
   "name": "python3"
  },
  "language_info": {
   "codemirror_mode": {
    "name": "ipython",
    "version": 2
   },
   "file_extension": ".py",
   "mimetype": "text/x-python",
   "name": "python",
   "nbconvert_exporter": "python",
   "pygments_lexer": "ipython2",
   "version": "2.7.14"
  }
 },
 "nbformat": 4,
 "nbformat_minor": 1
}
