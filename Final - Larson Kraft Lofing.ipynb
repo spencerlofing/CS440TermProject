{
 "cells": [
  {
   "cell_type": "markdown",
   "metadata": {},
   "source": [
    "# Final Project - Connect 4"
   ]
  },
  {
   "cell_type": "markdown",
   "metadata": {},
   "source": [
    "Joseph Larson, Joel Kraft, Spencer Lofing"
   ]
  },
  {
   "cell_type": "code",
   "execution_count": 12,
   "metadata": {
    "collapsed": true
   },
   "outputs": [],
   "source": [
    "import copy\n",
    "import numpy as np\n",
    "import matplotlib.pyplot as plt\n",
    "%matplotlib inline\n",
    "\n",
    "state = [['R', 'B', 'R', 'B', 'R', 'B'], [], ['B'], [], [], [], []]\n",
    "\n",
    "def printState(state):\n",
    "    copystate = copy.deepcopy(state)\n",
    "    for slot in copystate:\n",
    "        slotlength = len(slot)\n",
    "        for i in range(0, 6 - slotlength):\n",
    "            slot.insert(0, 'X')\n",
    "\n",
    "    for i in range(0, 6):\n",
    "        for slot in copystate:\n",
    "            print(slot[i] + ' '),\n",
    "        print()\n",
    "\n",
    "def validMoves(state):\n",
    "    listOfMoves = []\n",
    "    for i in range(0, len(state)):\n",
    "        if len(state[i]) < 6:\n",
    "            listOfMoves.append(i)\n",
    "    return listOfMoves\n",
    "\n",
    "def makeMove(state, move, color):\n",
    "    state[move].insert(0, color)"
   ]
  },
  {
   "cell_type": "code",
   "execution_count": 15,
   "metadata": {
    "collapsed": false
   },
   "outputs": [],
   "source": [
    "def stateMoveTuple(state, move, color) :\n",
    "    return ((tuple(state[0]), tuple(state[1]), tuple(state[2]), tuple(state[3]), tuple(state[4]), tuple(state[5]), tuple(state[6])), move, color)"
   ]
  },
  {
   "cell_type": "code",
   "execution_count": 16,
   "metadata": {
    "collapsed": false
   },
   "outputs": [
    {
     "data": {
      "text/plain": [
       "((('R', 'B', 'R', 'B', 'R', 'B'), (), ('B',), (), (), (), ()), 3, 'R')"
      ]
     },
     "execution_count": 16,
     "metadata": {},
     "output_type": "execute_result"
    }
   ],
   "source": [
    "stateMoveTuple(state, 3, 'R')"
   ]
  },
  {
   "cell_type": "code",
   "execution_count": 8,
   "metadata": {
    "collapsed": false
   },
   "outputs": [
    {
     "data": {
      "text/plain": [
       "[1, 2, 3, 4, 5, 6]"
      ]
     },
     "execution_count": 8,
     "metadata": {},
     "output_type": "execute_result"
    }
   ],
   "source": [
    "validMoves(state)"
   ]
  },
  {
   "cell_type": "code",
   "execution_count": 9,
   "metadata": {
    "collapsed": true
   },
   "outputs": [],
   "source": [
    "makeMove(state, 1, \"R\")"
   ]
  },
  {
   "cell_type": "code",
   "execution_count": 10,
   "metadata": {
    "collapsed": false
   },
   "outputs": [
    {
     "data": {
      "text/plain": [
       "[['R', 'B', 'R', 'B', 'R', 'B'], ['R'], ['B'], [], [], [], []]"
      ]
     },
     "execution_count": 10,
     "metadata": {},
     "output_type": "execute_result"
    }
   ],
   "source": [
    "state"
   ]
  },
  {
   "cell_type": "code",
   "execution_count": 11,
   "metadata": {
    "collapsed": true
   },
   "outputs": [],
   "source": [
    "def trainQ(nRepetitions, learningRate, epsilonDecayFactor, validMovesF, makeMoveF, startState = [[], [], [], [], [], [], []]) :\n",
    "    epsilon = 1.0\n",
    "    Q = {}\n",
    "    steps = []\n",
    "    def puzzleSolved(state) : \n",
    "        return len(state[0]) == 0 and len(state[1]) == 0 and len(state[2]) != 0\n",
    "\n",
    "    ## TODO: replace with the actual function for telling if the game has been won\n",
    "    \n",
    "    for repetition in range(nRepetitions):\n",
    "        epsilon *= epsilonDecayFactor\n",
    "        step = 0\n",
    "        state =  startState\n",
    "        done = False\n",
    "        while not done:\n",
    "            step += 1\n",
    "            move = epsilonGreedy(epsilon, Q, state, validMovesF)\n",
    "            stateNew = makeMove(state, move)\n",
    "            if stateMoveTuple(state,move) not in Q:\n",
    "                Q[stateMoveTuple(state,move)] = -1  # initial Q value for new board,move\n",
    "\n",
    "            if puzzleSolved(stateNew):\n",
    "                # solved!\n",
    "                Q[stateMoveTuple(state,move)] = 0\n",
    "                done = True\n",
    "                \n",
    "            if step > 1:\n",
    "                Q[stateMoveTuple(stateOld,moveOld)] += learningRate * (-1 + Q[stateMoveTuple(state,move)] - Q[stateMoveTuple(stateOld,moveOld)])\n",
    "\n",
    "            stateOld, moveOld = state, move # remember board and move to Q(board,move) can be updated after next steps\n",
    "            state = stateNew\n",
    "        steps.append(step)\n",
    "    return Q, np.array(steps)"
   ]
  },
  {
   "cell_type": "code",
   "execution_count": 13,
   "metadata": {
    "collapsed": true
   },
   "outputs": [],
   "source": [
    "def epsilonGreedy(epsilon, Q, state, validMovesF):\n",
    "    validMoves = validMovesF(state)\n",
    "    if np.random.uniform() < epsilon:\n",
    "        # Random Move\n",
    "        return validMoves[np.random.choice(len(validMoves))]\n",
    "    else:\n",
    "        # Greedy Move\n",
    "        Qs = np.array([Q.get(stateMoveTuple(state, m), 0) for m in validMoves]) \n",
    "        return validMoves[ np.argmax(Qs) ]"
   ]
  },
  {
   "cell_type": "code",
   "execution_count": 14,
   "metadata": {
    "collapsed": true
   },
   "outputs": [],
   "source": [
    "def testQ(Q, maxSteps, validMovesF, makeMoveF, startState = [[], [], [], [], [], [], []]) : \n",
    "    state = startState\n",
    "    listOfStates = []\n",
    "    def puzzleSolved(state) : \n",
    "        return len(state[0]) == 0 and len(state[1]) == 0 and len(state[2]) != 0\n",
    "    \n",
    "    ## TODO: replace puzzleSolved with the actual function\n",
    "\n",
    "    for steps in range(maxSteps) : \n",
    "        listOfStates.append(state)\n",
    "        move = epsilonGreedy(0, Q, state, validMovesF)\n",
    "        stateNew = makeMove(state, move, 'R')\n",
    "        state = stateNew\n",
    "        if puzzleSolved(stateNew) :\n",
    "            listOfStates.append(stateNew)\n",
    "            return listOfStates\n",
    "    return []"
   ]
  },
  {
   "cell_type": "code",
   "execution_count": null,
   "metadata": {
    "collapsed": true
   },
   "outputs": [],
   "source": []
  }
 ],
 "metadata": {
  "kernelspec": {
   "display_name": "Python 3",
   "language": "python",
   "name": "python3"
  },
  "language_info": {
   "codemirror_mode": {
    "name": "ipython",
    "version": 3
   },
   "file_extension": ".py",
   "mimetype": "text/x-python",
   "name": "python",
   "nbconvert_exporter": "python",
   "pygments_lexer": "ipython3",
   "version": "3.5.1"
  }
 },
 "nbformat": 4,
 "nbformat_minor": 0
}
